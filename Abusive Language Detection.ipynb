{
 "cells": [
  {
   "cell_type": "code",
   "execution_count": 1,
   "id": "c96b1a07",
   "metadata": {},
   "outputs": [],
   "source": [
    "import pandas as pd\n",
    "import numpy as np\n",
    "import re\n",
    "import seaborn as sns\n",
    "import matplotlib.pyplot as plt\n",
    "from matplotlib import style\n",
    "style.use('ggplot')\n",
    "from nltk.tokenize import word_tokenize\n",
    "from nltk.stem import WordNetLemmatizer, PorterStemmer\n",
    "from nltk.corpus import stopwords\n",
    "stop_words = set(stopwords.words('english'))\n",
    "from wordcloud import WordCloud\n",
    "from sklearn.feature_extraction.text import TfidfVectorizer\n",
    "from sklearn.feature_extraction.text import CountVectorizer\n",
    "from sklearn.model_selection import train_test_split\n",
    "from sklearn.naive_bayes import MultinomialNB\n",
    "from enum import Enum\n",
    "from sklearn.metrics import recall_score, precision_score, f1_score, accuracy_score, classification_report, ConfusionMatrixDisplay, confusion_matrix\n",
    "\n",
    "class VectorizerType(Enum):\n",
    "    COUNT = 1\n",
    "    TFID = 2\n",
    "    \n",
    "class DatasetType(Enum):\n",
    "    TWITTER = 1\n",
    "    WIKI = 2\n",
    "    FOX = 3\n",
    "    REDDIT = 4\n",
    "    STORMFRONT = 5\n",
    "    HATECHECK = 6\n",
    "    CONV_AI = 7\n",
    "    FB_TY = 8\n",
    "    TWI_FB = 9\n",
    "    YT_REDDIT = 10"
   ]
  },
  {
   "cell_type": "markdown",
   "id": "0659c03b",
   "metadata": {},
   "source": [
    "# Helper Methods"
   ]
  },
  {
   "cell_type": "markdown",
   "id": "77c2e7b6",
   "metadata": {},
   "source": [
    "#### Load Dataset"
   ]
  },
  {
   "cell_type": "code",
   "execution_count": 2,
   "id": "cf4c8987",
   "metadata": {},
   "outputs": [],
   "source": [
    "def LoadDataset(FileName):\n",
    "    df = pd.read_csv(FileName)\n",
    "    fig = plt.figure(figsize=(3,3))\n",
    "    sns.heatmap(df.isnull(),yticklabels=False)\n",
    "    df.info()\n",
    "    return df"
   ]
  },
  {
   "cell_type": "markdown",
   "id": "cbf86c47",
   "metadata": {},
   "source": [
    "#### Data Cleaning and Preprocessing"
   ]
  },
  {
   "cell_type": "code",
   "execution_count": 3,
   "id": "0f00110b",
   "metadata": {},
   "outputs": [],
   "source": [
    "def basic_data_cleaning(df):\n",
    "    # drop rows with null values\n",
    "    df = df.dropna()\n",
    "\n",
    "    # drop unnecessary columns\n",
    "    df = df.drop(columns=['id','file_platform','file_language', 'file_name', 'labels'])\n",
    "\n",
    "    #drop duplicates\n",
    "    df = df.drop_duplicates('text')\n",
    "\n",
    "    #change data type of binary labels to int\n",
    "    df['binary_labels'] = df['binary_labels'].astype('int')\n",
    "\n",
    "    #rename the column name to labels\n",
    "    df = df.rename(columns={\"binary_labels\": \"labels\"})\n",
    "\n",
    "    #see the changes made\n",
    "    df.info()\n",
    "    \n",
    "    return df"
   ]
  },
  {
   "cell_type": "code",
   "execution_count": 4,
   "id": "641aa1dd",
   "metadata": {},
   "outputs": [],
   "source": [
    "def data_processing(df, datasetType):\n",
    "    df = df.lower() #convert everything to lowercase\n",
    "    if datasetType == DatasetType.TWITTER:\n",
    "        df = re.sub(r\"http\\S+\", \"\", df) #removing links\n",
    "        df = re.sub(r\"\\@\\S+\", \"\", df) #removing usernames @...\n",
    "        df = re.sub(r\"[0-9]+\",\"\",df) #removing numbers\n",
    "        df = re.sub(r\"\\b([a-z]+[0-9]+|[0-9]+[a-z]+)[a-z0-9]*\\b\",\"\",df) #removing alphanumeric words\n",
    "        df = re.sub(r\"[^\\w\\s]\",\"\",df) #remove punctuations\n",
    "        df = re.sub(r\"amp\",\"\",df) #remove irrelevant words detected in wordcloud\n",
    "        df = re.sub(r\"rt\",\"\",df) \n",
    "        df = re.sub(r\"mkr\",\"\",df) \n",
    "    elif datasetType == DatasetType.WIKI:\n",
    "        df = re.sub(r\"http\\S+\", \"\", df) #removing links\n",
    "        df = re.sub(r\"[0-9]+\",\"\",df) #removing numbers\n",
    "        df = re.sub(r\"[^\\w\\s]\",\"\",df) #remove punctuations\n",
    "    \n",
    "    # tokenization\n",
    "    df_tokens = word_tokenize(df)\n",
    "    \n",
    "    #removing stopwords\n",
    "    filtered_df = [w for w in df_tokens if not w in stop_words]\n",
    "    \n",
    "    #lemmatization\n",
    "    lemmatizer = WordNetLemmatizer()\n",
    "    lemmatized_df = [lemmatizer.lemmatize(w) for w in filtered_df ]\n",
    "        \n",
    "    return \" \".join(lemmatized_df)"
   ]
  },
  {
   "cell_type": "markdown",
   "id": "797b8a84",
   "metadata": {},
   "source": [
    "#### Visualization"
   ]
  },
  {
   "cell_type": "code",
   "execution_count": 5,
   "id": "0ecb8341",
   "metadata": {},
   "outputs": [],
   "source": [
    "def visualize_label_distribution(df):\n",
    "    fig = plt.figure(figsize=(3,3))\n",
    "    sns.countplot(x='labels', data = df)\n",
    "\n",
    "    fig = plt.figure(figsize=(3,3))\n",
    "    colors = (\"red\", \"gold\")\n",
    "    wp = {'linewidth':2, 'edgecolor':\"black\"}\n",
    "    tags = df['labels'].value_counts()\n",
    "    explode = (0.1, 0.1)\n",
    "    tags.plot(kind='pie',autopct = '%1.1f%%', shadow=True, colors = colors, startangle =90, \n",
    "         wedgeprops = wp, explode = explode, label='')\n",
    "    plt.title('Label Distribution in Twitter Dataset')"
   ]
  },
  {
   "cell_type": "code",
   "execution_count": 6,
   "id": "38af99bc",
   "metadata": {},
   "outputs": [],
   "source": [
    "def visualize_word_cloud(Data, Title):\n",
    "    text = ' '.join([word for word in Data])\n",
    "    plt.figure(figsize=(10,10), facecolor='w')\n",
    "    wordcloud = WordCloud(max_words=500, width=1600, height=800).generate(text)\n",
    "    plt.imshow(wordcloud, interpolation='bilinear')\n",
    "    plt.axis('off')\n",
    "    plt.title(Title, fontsize = 19)\n",
    "    plt.show()"
   ]
  },
  {
   "cell_type": "markdown",
   "id": "48ac3294",
   "metadata": {},
   "source": [
    "#### Vectorize"
   ]
  },
  {
   "cell_type": "code",
   "execution_count": 7,
   "id": "e120baf4",
   "metadata": {},
   "outputs": [],
   "source": [
    "def Vectorize(mode,minRange,maxRange):\n",
    "    if mode == VectorizerType.COUNT:\n",
    "        return CountVectorizer(analyzer='word', ngram_range=(minRange, maxRange))\n",
    "    if mode == VectorizerType.TFID:\n",
    "        return TfidfVectorizer(analyzer='word', ngram_range=(minRange, maxRange))"
   ]
  },
  {
   "cell_type": "markdown",
   "id": "9c6d4a82",
   "metadata": {},
   "source": [
    "#### Train Test Validation Split"
   ]
  },
  {
   "cell_type": "code",
   "execution_count": 8,
   "id": "f98ea182",
   "metadata": {},
   "outputs": [],
   "source": [
    "def train_validate_test_split(vectorizer, XData, YData):\n",
    "    print(\"======== SHAPE =======\")\n",
    "    print(XData.shape)\n",
    "    X = vectorizer.fit_transform(XData)\n",
    "    print(X.shape)\n",
    "    Y = YData\n",
    "    x, x_test, y, y_test = train_test_split(X, Y, test_size=0.2, random_state=42)\n",
    "    x_train, x_validate, y_train, y_validate = train_test_split(x, y, test_size=0.1, random_state=42)\n",
    "    return x_train, x_validate, x_test, y_train, y_validate, y_test"
   ]
  },
  {
   "cell_type": "markdown",
   "id": "54b85a3a",
   "metadata": {},
   "source": [
    "#### Get Best Model"
   ]
  },
  {
   "cell_type": "code",
   "execution_count": 9,
   "id": "b70fec3e",
   "metadata": {},
   "outputs": [],
   "source": [
    "def get_best_model(x_train, y_train, x_validate, y_validate, params):\n",
    "    bestModel = None\n",
    "    bestScore = -0.0000000001\n",
    "    \n",
    "    # hyperparameter tuning\n",
    "    for i in params:\n",
    "        model = MultinomialNB(alpha=i)\n",
    "        model.fit(x_train, y_train)\n",
    "        y_predict = model.predict(x_validate)\n",
    "        score = f1_score(y_validate, y_predict, average='macro')\n",
    "        if score > bestScore:\n",
    "            bestScore = score\n",
    "            bestModel = model\n",
    "            \n",
    "    return bestModel"
   ]
  },
  {
   "cell_type": "markdown",
   "id": "42ca7c05",
   "metadata": {},
   "source": [
    "#### Apply Naive Bayes"
   ]
  },
  {
   "cell_type": "code",
   "execution_count": 10,
   "id": "9fb19072",
   "metadata": {},
   "outputs": [],
   "source": [
    "def GenericNaiveBayes(vect, df_X, df_Y):\n",
    "    x_train, x_validate, x_test, y_train, y_validate, y_test = train_validate_test_split(vect, df_X, df_Y)\n",
    "    params = [0.001,0.01,0.1,0.2,0.4,0.6,0.8, 1,2,3]\n",
    "    model = get_best_model(x_train, y_train, x_validate, y_validate, params)\n",
    "    y_predict = model.predict(x_test)\n",
    "    f1 = EvaluatePerformance(y_test, y_predict)\n",
    "    return model, f1, y_test, y_predict"
   ]
  },
  {
   "cell_type": "code",
   "execution_count": null,
   "id": "9a0c7b1c",
   "metadata": {},
   "outputs": [],
   "source": [
    "#### Eva"
   ]
  }
 ],
 "metadata": {
  "kernelspec": {
   "display_name": "Python 3 (ipykernel)",
   "language": "python",
   "name": "python3"
  },
  "language_info": {
   "codemirror_mode": {
    "name": "ipython",
    "version": 3
   },
   "file_extension": ".py",
   "mimetype": "text/x-python",
   "name": "python",
   "nbconvert_exporter": "python",
   "pygments_lexer": "ipython3",
   "version": "3.9.7"
  }
 },
 "nbformat": 4,
 "nbformat_minor": 5
}
